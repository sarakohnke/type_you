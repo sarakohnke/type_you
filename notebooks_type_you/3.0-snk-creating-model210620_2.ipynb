{
 "cells": [
  {
   "cell_type": "code",
   "execution_count": 5,
   "metadata": {},
   "outputs": [
    {
     "data": {
      "text/plain": [
       "'/Users/sarakohnke/Desktop/data_type_you/processed-final'"
      ]
     },
     "execution_count": 5,
     "metadata": {},
     "output_type": "execute_result"
    }
   ],
   "source": [
    "#Set working directory\n",
    "import os\n",
    "path=\"/Users/sarakohnke/Desktop/data_type_you/processed-final/\"\n",
    "os.chdir(path)\n",
    "os.getcwd()"
   ]
  },
  {
   "cell_type": "code",
   "execution_count": 6,
   "metadata": {},
   "outputs": [],
   "source": [
    "#Import required packages\n",
    "import pandas as pd\n",
    "import numpy as np\n",
    "import matplotlib\n",
    "import matplotlib.pyplot as plt\n",
    "import seaborn as sns\n",
    "%matplotlib inline"
   ]
  },
  {
   "cell_type": "code",
   "execution_count": 7,
   "metadata": {},
   "outputs": [
    {
     "data": {
      "text/plain": [
       "(33470, 45)"
      ]
     },
     "execution_count": 7,
     "metadata": {},
     "output_type": "execute_result"
    }
   ],
   "source": [
    "#Import cleaned dataframe\n",
    "dataframe=pd.read_csv('dataframe240620.csv',index_col=0)\n",
    "dataframe.shape"
   ]
  },
  {
   "cell_type": "code",
   "execution_count": 4,
   "metadata": {},
   "outputs": [],
   "source": [
    "#dataframe=pd.read_csv('dataframe240620.csv',index_col=0)\n",
    "#from pycaret.classification import *\n",
    "#exp1=setup(dataframe, target='A1C (%)')"
   ]
  },
  {
   "cell_type": "code",
   "execution_count": null,
   "metadata": {},
   "outputs": [],
   "source": [
    "#compare_models()"
   ]
  },
  {
   "cell_type": "code",
   "execution_count": 9,
   "metadata": {},
   "outputs": [
    {
     "name": "stdout",
     "output_type": "stream",
     "text": [
      "Parameters currently in use:\n",
      "\n",
      "{'ccp_alpha': 0.0,\n",
      " 'criterion': 'mse',\n",
      " 'max_depth': None,\n",
      " 'max_features': None,\n",
      " 'max_leaf_nodes': None,\n",
      " 'min_impurity_decrease': 0.0,\n",
      " 'min_impurity_split': None,\n",
      " 'min_samples_leaf': 1,\n",
      " 'min_samples_split': 2,\n",
      " 'min_weight_fraction_leaf': 0.0,\n",
      " 'presort': 'deprecated',\n",
      " 'random_state': 0,\n",
      " 'splitter': 'best'}\n"
     ]
    }
   ],
   "source": [
    "from sklearn.tree import DecisionTreeRegressor\n",
    "from pprint import pprint\n",
    "from sklearn.model_selection import train_test_split\n",
    "\n",
    "X_rf = dataframe.drop(['A1C (%)'],1)\n",
    "y_rf = dataframe['A1C (%)']\n",
    "X_train_rf, X_test_rf, y_train_rf, y_test_rf = train_test_split(X_rf, y_rf, random_state = 0)\n",
    "\n",
    "clf_rf = DecisionTreeRegressor(random_state = 0).fit(X_train_rf, y_train_rf)\n",
    "print('Parameters currently in use:\\n')\n",
    "pprint(clf_rf.get_params())\n",
    "\n",
    "X_train_rf.to_csv('X_train.csv')\n",
    "y_train_rf.to_csv('y_train.csv')"
   ]
  },
  {
   "cell_type": "code",
   "execution_count": 10,
   "metadata": {},
   "outputs": [
    {
     "name": "stdout",
     "output_type": "stream",
     "text": [
      "{'max_depth': [10, 20, 30, 40, 50, 60, 70, 80, 90, 100, 110, None],\n",
      " 'min_samples_leaf': [1, 2, 4],\n",
      " 'min_samples_split': [2, 5, 10]}\n"
     ]
    }
   ],
   "source": [
    "from sklearn.model_selection import RandomizedSearchCV\n",
    "\n",
    "\n",
    "# Number of features to consider at every split - for regressor, none is good\n",
    "max_features = None\n",
    "\n",
    "# Maximum number of levels in tree\n",
    "max_depth = [int(x) for x in np.linspace(10, 110, num = 11)]\n",
    "max_depth.append(None)\n",
    "\n",
    "# Minimum number of samples required to split a node\n",
    "min_samples_split = [2, 5, 10]\n",
    "\n",
    "# Minimum number of samples required at each leaf node\n",
    "min_samples_leaf = [1, 2, 4]\n",
    "\n",
    "# Method of selecting samples for training each tree\n",
    "bootstrap = True\n",
    "\n",
    "# Create the random grid\n",
    "random_grid = {\n",
    "               'max_depth': max_depth,\n",
    "               'min_samples_split': min_samples_split,\n",
    "               'min_samples_leaf': min_samples_leaf\n",
    "               \n",
    "               }\n",
    "pprint(random_grid)"
   ]
  },
  {
   "cell_type": "code",
   "execution_count": 11,
   "metadata": {},
   "outputs": [
    {
     "name": "stdout",
     "output_type": "stream",
     "text": [
      "Fitting 3 folds for each of 50 candidates, totalling 150 fits\n"
     ]
    },
    {
     "name": "stderr",
     "output_type": "stream",
     "text": [
      "[Parallel(n_jobs=-1)]: Using backend LokyBackend with 4 concurrent workers.\n",
      "[Parallel(n_jobs=-1)]: Done  33 tasks      | elapsed:    7.3s\n",
      "[Parallel(n_jobs=-1)]: Done 150 out of 150 | elapsed:   24.8s finished\n"
     ]
    },
    {
     "data": {
      "text/plain": [
       "{'min_samples_split': 10, 'min_samples_leaf': 4, 'max_depth': 10}"
      ]
     },
     "execution_count": 11,
     "metadata": {},
     "output_type": "execute_result"
    }
   ],
   "source": [
    "# Use the random grid to search for best hyperparameters\n",
    "# First create the base model to tune\n",
    "clf_rf = DecisionTreeRegressor(random_state=0)\n",
    "\n",
    "# Random search of parameters, using 3 fold cross validation, \n",
    "# search across 10 different combinations, and use all available cores\n",
    "rf_random = RandomizedSearchCV(estimator = clf_rf, param_distributions = random_grid, n_iter=50,cv = 3, verbose=2, random_state=0, n_jobs = -1)\n",
    "\n",
    "# Fit the random search model\n",
    "rf_random.fit(X_train_rf, y_train_rf)\n",
    "rf_random.best_params_"
   ]
  },
  {
   "cell_type": "code",
   "execution_count": 13,
   "metadata": {},
   "outputs": [],
   "source": [
    "# Make features and target objects\n",
    "X_rf2 = dataframe.drop(['A1C (%)'],1)\n",
    "y_rf2 = dataframe['A1C (%)']\n",
    "X_train_rf2, X_test_rf2, y_train_rf2, y_test_rf2 = train_test_split(X_rf2, y_rf2, random_state = 0)\n",
    "\n",
    "# Train model\n",
    "clf_rf2 = DecisionTreeRegressor(max_depth=10,min_samples_leaf=4,\n",
    "                min_samples_split=10,random_state = 0).fit(X_train_rf2, y_train_rf2)"
   ]
  },
  {
   "cell_type": "code",
   "execution_count": 14,
   "metadata": {},
   "outputs": [
    {
     "name": "stdout",
     "output_type": "stream",
     "text": [
      "R-squared score (training): 0.654\n",
      "R-squared score (test): 0.313\n"
     ]
    }
   ],
   "source": [
    "# Print r2 score\n",
    "print('R-squared score (training): {:.3f}'\n",
    "     .format(clf_rf2.score(X_train_rf2, y_train_rf2)))\n",
    "print('R-squared score (test): {:.3f}'\n",
    "     .format(clf_rf2.score(X_test_rf2, y_test_rf2)))"
   ]
  },
  {
   "cell_type": "code",
   "execution_count": 15,
   "metadata": {},
   "outputs": [
    {
     "data": {
      "text/plain": [
       "<matplotlib.axes._subplots.AxesSubplot at 0x7f8b8155a850>"
      ]
     },
     "execution_count": 15,
     "metadata": {},
     "output_type": "execute_result"
    },
    {
     "data": {
      "image/png": "[encoded data removed]",
      "text/plain": [
       "<Figure size 432x288 with 1 Axes>"
      ]
     },
     "metadata": {
      "needs_background": "light"
     },
     "output_type": "display_data"
    }
   ],
   "source": [
    "#Find feature importances in model\n",
    "import pandas as pd\n",
    "feat_importances = pd.Series(clf_rf2.feature_importances_, index=X_rf2.columns)\n",
    "feat_importances.to_csv('feat_importances.csv')\n",
    "feat_importances.nlargest(10).plot(kind='barh')\n",
    "#plt.savefig('importance.png',dpi=300)"
   ]
  },
  {
   "cell_type": "code",
   "execution_count": 237,
   "metadata": {},
   "outputs": [],
   "source": [
    "X_test_rf2.head()\n",
    "X_test_rf2.to_csv('xtestjun22.csv')"
   ]
  },
  {
   "cell_type": "code",
   "execution_count": 32,
   "metadata": {},
   "outputs": [],
   "source": [
    "y_test_rf2.head()\n",
    "y_test_rf2.to_csv('ytestjun22.csv')"
   ]
  },
  {
   "cell_type": "code",
   "execution_count": 31,
   "metadata": {},
   "outputs": [],
   "source": [
    "#Make patient lists from test data for app\n",
    "patient1_list=X_test_rf2.iloc[115,:].values.tolist()\n",
    "patient2_list=X_test_rf2.iloc[253,:].values.tolist()\n",
    "patient3_list=X_test_rf2.iloc[603,:].values.tolist()"
   ]
  },
  {
   "cell_type": "code",
   "execution_count": 19,
   "metadata": {},
   "outputs": [
    {
     "name": "stdout",
     "output_type": "stream",
     "text": [
      "your current score: 9.419999999999998\n"
     ]
    }
   ],
   "source": [
    "#Find current predicted A1C score\n",
    "A1C_prediction_drug1_2 = clf_rf2.predict([patient1_list])\n",
    "print('your current score: '+str(A1C_prediction_drug1_2[0]))"
   ]
  },
  {
   "cell_type": "code",
   "execution_count": 18,
   "metadata": {},
   "outputs": [
    {
     "name": "stdout",
     "output_type": "stream",
     "text": [
      "your predicted score with insulin: 9.419999999999998\n"
     ]
    }
   ],
   "source": [
    "#insulin - 1-3?->just1\n",
    "patient1_list[6]=1\n",
    "A1C_prediction_drug1_2 = clf_rf2.predict([patient1_list])\n",
    "print('your predicted score with insulin: '+str(A1C_prediction_drug1_2[0]))"
   ]
  },
  {
   "cell_type": "code",
   "execution_count": 21,
   "metadata": {},
   "outputs": [
    {
     "name": "stdout",
     "output_type": "stream",
     "text": [
      "your predicted score with ideal bmi: 6.659999999999999\n"
     ]
    }
   ],
   "source": [
    "#bmi    \n",
    "patient1_list[18]=24\n",
    "A1C_prediction_drug1_2 = clf_rf2.predict([patient1_list])\n",
    "print('your predicted score with ideal bmi: '+str(A1C_prediction_drug1_2[0]))"
   ]
  },
  {
   "cell_type": "code",
   "execution_count": 23,
   "metadata": {},
   "outputs": [
    {
     "name": "stdout",
     "output_type": "stream",
     "text": [
      "your predicted score with ideal blood pressure: 9.419999999999998\n"
     ]
    }
   ],
   "source": [
    "#bp     \n",
    "patient1_list[3]=120\n",
    "patient1_list[4]=80\n",
    "A1C_prediction_drug1_2 = clf_rf2.predict([patient1_list])\n",
    "print('your predicted score with ideal blood pressure: '+str(A1C_prediction_drug1_2[0]))"
   ]
  },
  {
   "cell_type": "code",
   "execution_count": 25,
   "metadata": {},
   "outputs": [
    {
     "name": "stdout",
     "output_type": "stream",
     "text": [
      "your predicted score with ideal triglycerides: 9.419999999999998\n"
     ]
    }
   ],
   "source": [
    "#triglycerides\n",
    "patient1_list[32]=150\n",
    "A1C_prediction_drug1_2 = clf_rf2.predict([patient1_list])\n",
    "print('your predicted score with ideal triglycerides: '+str(A1C_prediction_drug1_2[0]))"
   ]
  },
  {
   "cell_type": "code",
   "execution_count": 27,
   "metadata": {},
   "outputs": [
    {
     "name": "stdout",
     "output_type": "stream",
     "text": [
      "your predicted score with healthy diet: 9.419999999999998\n"
     ]
    }
   ],
   "source": [
    "#healthy diet\n",
    "patient1_list[43]=1\n",
    "A1C_prediction_drug1_2 = clf_rf2.predict([patient1_list])\n",
    "print('your predicted score with healthy diet: '+str(A1C_prediction_drug1_2[0]))"
   ]
  },
  {
   "cell_type": "code",
   "execution_count": 29,
   "metadata": {},
   "outputs": [
    {
     "name": "stdout",
     "output_type": "stream",
     "text": [
      "your predicted score with cholesterol: 9.419999999999998\n"
     ]
    }
   ],
   "source": [
    "#cholesterol \n",
    "patient1_list[19]=170\n",
    "A1C_prediction_drug1_2 = clf_rf2.predict([patient1_list])\n",
    "print('your predicted score with cholesterol: '+str(A1C_prediction_drug1_2[0]))"
   ]
  },
  {
   "cell_type": "markdown",
   "metadata": {},
   "source": [
    " do the same for other patients"
   ]
  },
  {
   "cell_type": "markdown",
   "metadata": {},
   "source": [
    "test my model against dummy regressor"
   ]
  },
  {
   "cell_type": "code",
   "execution_count": 196,
   "metadata": {},
   "outputs": [
    {
     "data": {
      "image/png": "[encoded data removed]",
      "text/plain": [
       "<Figure size 432x288 with 1 Axes>"
      ]
     },
     "metadata": {
      "needs_background": "light"
     },
     "output_type": "display_data"
    }
   ],
   "source": [
    "import numpy as np\n",
    "import matplotlib.pyplot as plt\n",
    "predicted_rf2 = clf_rf2.predict(X_test_rf2)\n",
    "\n",
    "\n",
    "plt.scatter(y_test_rf2,predicted_rf2)\n",
    "plt.xlabel('Actual values')\n",
    "plt.ylabel('Predicted values')\n",
    "\n",
    "plt.plot(np.unique(y_test_rf2), np.poly1d(np.polyfit(y_test_rf2, predicted_rf2, 1))(np.unique(y_test_rf2)))\n",
    "\n",
    "#plt.savefig('r2.png',dpi=300)\n"
   ]
  },
  {
   "cell_type": "code",
   "execution_count": 19,
   "metadata": {},
   "outputs": [
    {
     "data": {
      "image/png": "[encoded data removed]",
      "text/plain": [
       "<Figure size 432x288 with 1 Axes>"
      ]
     },
     "metadata": {
      "needs_background": "light"
     },
     "output_type": "display_data"
    }
   ],
   "source": [
    "import numpy as np\n",
    "import matplotlib.pyplot as plt\n",
    "from sklearn.dummy import DummyRegressor\n",
    "dummy_mean=DummyRegressor(strategy='mean')\n",
    "predicted_rf2 = clf_rf2.predict(X_test_rf2)\n",
    "predicted_dummy=dummy_mean.predict(X_test_rf2)\n",
    "\n",
    "plt.scatter(y_test_rf2,predicted_dummy)\n",
    "plt.xlabel('Actual values')\n",
    "plt.ylabel('Predicted values')\n",
    "\n",
    "plt.plot(np.unique(y_test_rf2), np.poly1d(np.polyfit(y_test_rf2, predicted_dummy, 1))(np.unique(y_test_rf2)))\n",
    "\n",
    "plt.show()"
   ]
  },
  {
   "cell_type": "code",
   "execution_count": 238,
   "metadata": {},
   "outputs": [],
   "source": [
    "#pickle the model so can upload trained model to app\n",
    "import pickle\n",
    "#import bz2\n",
    "#import _pickle as cPickle\n",
    "with open('model_pkl.pickle','wb') as output_file:\n",
    "    pickle.dump(clf_rf2,output_file)\n",
    "    \n",
    "# Pickle a file and then compress it into a file with extension \n",
    "#def compressed_pickle(model, clf_rf2):\n",
    "#    with bz2.BZ2File(model + '.bz2', 'w') as f: \n",
    "#        cPickle.dump(clf_rf2, f)\n",
    " \n",
    "##file=bz2.BZ2File('c.pkl','w')\n",
    "#pickle.dump(clf_rf2,sfile)\n",
    "#compressed_pickle('model',clf_rf2)"
   ]
  },
  {
   "cell_type": "code",
   "execution_count": 15,
   "metadata": {},
   "outputs": [],
   "source": [
    "# to open compressed pickle\n",
    "#def decompress_pickle(file):\n",
    "#    model=bz2.BZ2File(file,'rb')\n",
    "#    model=cPickle.load(model)\n",
    "#    return model\n",
    "\n",
    "#model=decompress_pickle('model.pbz2')"
   ]
  },
  {
   "cell_type": "code",
   "execution_count": 5,
   "metadata": {},
   "outputs": [],
   "source": [
    "#to open normal pickle\n",
    "with open('model_pkl.pickle','rb') as input_file:\n",
    "    model=pickle.load(input_file)"
   ]
  }
 ],
 "metadata": {
  "kernelspec": {
   "display_name": "Python 3",
   "language": "python",
   "name": "python3"
  },
  "language_info": {
   "codemirror_mode": {
    "name": "ipython",
    "version": 3
   },
   "file_extension": ".py",
   "mimetype": "text/x-python",
   "name": "python",
   "nbconvert_exporter": "python",
   "pygments_lexer": "ipython3",
   "version": "3.7.6"
  }
 },
 "nbformat": 4,
 "nbformat_minor": 4
}
